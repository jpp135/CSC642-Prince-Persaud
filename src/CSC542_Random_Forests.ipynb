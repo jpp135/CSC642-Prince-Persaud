{
  "nbformat": 4,
  "nbformat_minor": 0,
  "metadata": {
    "colab": {
      "provenance": []
    },
    "kernelspec": {
      "name": "python3",
      "display_name": "Python 3"
    },
    "language_info": {
      "name": "python"
    }
  },
  "cells": [
    {
      "cell_type": "code",
      "execution_count": null,
      "metadata": {
        "colab": {
          "base_uri": "https://localhost:8080/"
        },
        "id": "1xjxlQ0HMIoR",
        "outputId": "570918b4-9e48-4051-d1c7-26c55851ec65"
      },
      "outputs": [
        {
          "output_type": "stream",
          "name": "stdout",
          "text": [
            "              precision    recall  f1-score   support\n",
            "\n",
            "           0       0.67      0.75      0.71         8\n",
            "           1       0.60      0.50      0.55         6\n",
            "\n",
            "    accuracy                           0.64        14\n",
            "   macro avg       0.63      0.62      0.63        14\n",
            "weighted avg       0.64      0.64      0.64        14\n",
            "\n",
            "Accuracy: 0.6428571428571429\n"
          ]
        }
      ],
      "source": [
        "import pandas as pd\n",
        "from sklearn.model_selection import train_test_split\n",
        "from sklearn.tree import DecisionTreeClassifier\n",
        "from sklearn.metrics import classification_report, accuracy_score\n",
        "from sklearn.preprocessing import StandardScaler\n",
        "\n",
        "file_path = 'Re-adjusted demographic data for florida counties.csv'\n",
        "data = pd.read_csv(file_path, delimiter=',')\n",
        "\n",
        "features = [\n",
        "    'R_NATURAL_INC_2018', 'R_INTERNATIONAL_MIG_2018', 'R_DOMESTIC_MIG_2018', 'R_NET_MIG_2018',\n",
        "    'Percent of adults with less than a high school diploma 2014-18',\n",
        "    'Percent of adults with a high school diploma only 2014-18',\n",
        "    'Percent of adults completing some college or associate\\'s degree 2014-18',\n",
        "    'Percent of adults with a bachelor\\'s degree or higher 2014-18',\n",
        "    'Unemployment_rate_2018', 'Median_Household_Income_2018',\n",
        "    'Med_HH_Income_Percent_of_State_Total_2018', 'Housing units',\n",
        "    'Density per square mile of land area - Population',\n",
        "    'Density per square mile of land area - Housing units', 'Total_Male',\n",
        "    'Total_Female', 'Total_age0to17', 'Total_age18to64', 'Total_age65plus', 'Total_age85plusr'\n",
        "]\n",
        "target = 'Hotspot'\n",
        "\n",
        "data[features] = data[features].apply(pd.to_numeric, errors='coerce')\n",
        "\n",
        "data = data.dropna(subset=features + [target])\n",
        "\n",
        "X = data[features]\n",
        "y = data[target].astype(int)\n",
        "\n",
        "X_train, X_test, y_train, y_test = train_test_split(X, y, test_size=0.2, random_state=42)\n",
        "\n",
        "scaler = StandardScaler()\n",
        "X_train_scaled = scaler.fit_transform(X_train)\n",
        "X_test_scaled = scaler.transform(X_test)\n",
        "\n",
        "tree_model = DecisionTreeClassifier(random_state=42)\n",
        "tree_model.fit(X_train_scaled, y_train)\n",
        "\n",
        "y_pred_tree = tree_model.predict(X_test_scaled)\n",
        "\n",
        "print(classification_report(y_test, y_pred_tree))\n",
        "print(f\"Accuracy: {accuracy_score(y_test, y_pred_tree)}\")\n"
      ]
    },
    {
      "cell_type": "markdown",
      "source": [
        "# **Cross Validation of Decision Tree**"
      ],
      "metadata": {
        "id": "dJxW6S123CLZ"
      }
    },
    {
      "cell_type": "code",
      "source": [
        "from sklearn.model_selection import cross_val_score\n",
        "import numpy as np\n",
        "\n",
        "scores = cross_val_score(tree_model, X_train_scaled, y_train, cv=5)\n",
        "\n",
        "print(\"Cross-validation scores:\", scores)\n",
        "print(\"Mean cross-validation score:\", scores.mean())\n",
        "print(\"Standard deviation of cross-validation scores:\", scores.std())\n",
        "\n",
        "tree_model.fit(X_train_scaled, y_train)\n",
        "y_pred_tree = tree_model.predict(X_test_scaled)\n",
        "\n",
        "print(\"Classification Report:\")\n",
        "print(classification_report(y_test, y_pred_tree))\n",
        "print(\"Test Set Accuracy:\", accuracy_score(y_test, y_pred_tree))"
      ],
      "metadata": {
        "colab": {
          "base_uri": "https://localhost:8080/"
        },
        "id": "c0uZzljV3A7T",
        "outputId": "f9c2e1eb-0f1f-415f-98b6-1c6f1513dabb"
      },
      "execution_count": null,
      "outputs": [
        {
          "output_type": "stream",
          "name": "stdout",
          "text": [
            "Cross-validation scores: [0.72727273 0.63636364 0.54545455 0.6        0.3       ]\n",
            "Mean cross-validation score: 0.5618181818181818\n",
            "Standard deviation of cross-validation scores: 0.14367088192827937\n",
            "Classification Report:\n",
            "              precision    recall  f1-score   support\n",
            "\n",
            "           0       0.67      0.75      0.71         8\n",
            "           1       0.60      0.50      0.55         6\n",
            "\n",
            "    accuracy                           0.64        14\n",
            "   macro avg       0.63      0.62      0.63        14\n",
            "weighted avg       0.64      0.64      0.64        14\n",
            "\n",
            "Test Set Accuracy: 0.6428571428571429\n"
          ]
        }
      ]
    },
    {
      "cell_type": "markdown",
      "source": [
        "# **Random Forest**"
      ],
      "metadata": {
        "id": "u2qWeul03J10"
      }
    },
    {
      "cell_type": "code",
      "source": [
        "from sklearn.ensemble import RandomForestClassifier\n",
        "\n",
        "forest_model = RandomForestClassifier(n_estimators=100, random_state=42)\n",
        "forest_model.fit(X_train_scaled, y_train)\n",
        "\n",
        "y_pred_forest = forest_model.predict(X_test_scaled)\n",
        "\n",
        "print(classification_report(y_test, y_pred_forest))\n",
        "print(f\"Accuracy: {accuracy_score(y_test, y_pred_forest)}\")"
      ],
      "metadata": {
        "colab": {
          "base_uri": "https://localhost:8080/"
        },
        "id": "DaCuz6bbNJOF",
        "outputId": "10e32afc-bc40-4fe5-8932-192276d90ab7"
      },
      "execution_count": null,
      "outputs": [
        {
          "output_type": "stream",
          "name": "stdout",
          "text": [
            "              precision    recall  f1-score   support\n",
            "\n",
            "           0       0.89      1.00      0.94         8\n",
            "           1       1.00      0.83      0.91         6\n",
            "\n",
            "    accuracy                           0.93        14\n",
            "   macro avg       0.94      0.92      0.93        14\n",
            "weighted avg       0.94      0.93      0.93        14\n",
            "\n",
            "Accuracy: 0.9285714285714286\n"
          ]
        }
      ]
    },
    {
      "cell_type": "markdown",
      "source": [
        "# **Grid Search on Random Forest**"
      ],
      "metadata": {
        "id": "Ydp1ba5w3Oow"
      }
    },
    {
      "cell_type": "code",
      "source": [
        "from sklearn.model_selection import GridSearchCV\n",
        "\n",
        "param_grid = {\n",
        "    'max_depth': [3, 10, 20, None],\n",
        "    'min_samples_split': [2, 10, 20],\n",
        "    'min_samples_leaf': [1, 5, 10],\n",
        "    'n_estimators': [50, 100, 200]\n",
        "}\n",
        "\n",
        "forest_grid = GridSearchCV(RandomForestClassifier(random_state=42), param_grid, cv=5)\n",
        "forest_grid.fit(X_train_scaled, y_train)\n",
        "\n",
        "print(\"Best parameters:\", forest_grid.best_params_)\n",
        "print(\"Best cross-validation score: {:.2f}\".format(forest_grid.best_score_))\n",
        "\n",
        "y_pred_best = forest_grid.predict(X_test_scaled)\n",
        "\n",
        "print(classification_report(y_test, y_pred_best))\n",
        "print(f\"Accuracy: {accuracy_score(y_test, y_pred_best)}\")\n"
      ],
      "metadata": {
        "colab": {
          "base_uri": "https://localhost:8080/"
        },
        "id": "W-h_5hfgNNgS",
        "outputId": "977fb1a3-c178-42bc-bc63-8badb5ab2426"
      },
      "execution_count": null,
      "outputs": [
        {
          "output_type": "stream",
          "name": "stdout",
          "text": [
            "Best parameters: {'max_depth': 3, 'min_samples_leaf': 10, 'min_samples_split': 2, 'n_estimators': 200}\n",
            "Best cross-validation score: 0.68\n",
            "              precision    recall  f1-score   support\n",
            "\n",
            "           0       0.89      1.00      0.94         8\n",
            "           1       1.00      0.83      0.91         6\n",
            "\n",
            "    accuracy                           0.93        14\n",
            "   macro avg       0.94      0.92      0.93        14\n",
            "weighted avg       0.94      0.93      0.93        14\n",
            "\n",
            "Accuracy: 0.9285714285714286\n"
          ]
        }
      ]
    }
  ]
}